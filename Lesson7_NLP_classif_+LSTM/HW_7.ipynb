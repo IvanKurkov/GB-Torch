{
 "cells": [
  {
   "cell_type": "markdown",
   "id": "0ef9de5f",
   "metadata": {},
   "source": [
    "### В задании сказано сделать классификацию оценки от 1 до 5 звезд продукта по отзыву."
   ]
  },
  {
   "cell_type": "markdown",
   "id": "a9a8597c",
   "metadata": {},
   "source": [
    "- Для сравнения, без LSTM показатели были следующие:  Step 0: loss=0.15460678935050964 acc=0.958984375 val_acc=0.7412731006160165\n",
    "- С LSTM loss=0.6061211824417114 acc=0.794921875 val_acc=0.7682604869463185\n",
    "\n",
    "В этой версии также был добавлен Дропаут слой, что помогло убрать переобучение. "
   ]
  },
  {
   "cell_type": "code",
   "execution_count": 35,
   "id": "2daf1c6a",
   "metadata": {},
   "outputs": [],
   "source": [
    "import pandas as pd\n",
    "from sklearn.model_selection import train_test_split\n",
    "from string import punctuation\n",
    "from stop_words import get_stop_words\n",
    "from pymorphy2 import MorphAnalyzer\n",
    "import re\n",
    "import nltk\n",
    "from nltk.tokenize import word_tokenize\n",
    "import torch\n",
    "import torch.nn.functional as F"
   ]
  },
  {
   "cell_type": "code",
   "execution_count": 36,
   "id": "2ac29ead",
   "metadata": {},
   "outputs": [],
   "source": [
    "max_words = 1000\n",
    "max_len = 10\n",
    "num_classes = 5\n",
    "\n",
    "# Training\n",
    "epochs = 20\n",
    "batch_size = 512\n",
    "print_batch_n = 100"
   ]
  },
  {
   "cell_type": "code",
   "execution_count": 37,
   "id": "40b5590c",
   "metadata": {},
   "outputs": [],
   "source": [
    "df = pd.read_excel('review.xls')  "
   ]
  },
  {
   "cell_type": "code",
   "execution_count": 38,
   "id": "2ede695e",
   "metadata": {},
   "outputs": [],
   "source": [
    "df_X = df['Content']\n",
    "df_y = df['Rating']"
   ]
  },
  {
   "cell_type": "code",
   "execution_count": 39,
   "id": "1d3274c9",
   "metadata": {},
   "outputs": [],
   "source": [
    "df_y = df_y - 1 # Делаем, что бы был 0 класс, особенность лосса, если подавать 1-5 классы, выдает ошибку, если подавать 0-4 то норм."
   ]
  },
  {
   "cell_type": "code",
   "execution_count": 40,
   "id": "0b05d8ca",
   "metadata": {},
   "outputs": [
    {
     "data": {
      "text/plain": [
       "'В целом удобноное приложение...из минусов хотят слишком большой доступ к персональным данным в телефоне,приходится пользоваться в ограниченном режиме'"
      ]
     },
     "execution_count": 40,
     "metadata": {},
     "output_type": "execute_result"
    }
   ],
   "source": [
    "df_X[1]"
   ]
  },
  {
   "cell_type": "code",
   "execution_count": 41,
   "id": "3bdb20bb",
   "metadata": {},
   "outputs": [],
   "source": [
    "X_train, X_test, y_train, y_test = train_test_split(df_X, df_y, test_size=0.33, random_state=42)"
   ]
  },
  {
   "cell_type": "code",
   "execution_count": 42,
   "id": "50c24cb8",
   "metadata": {},
   "outputs": [],
   "source": [
    "sw = set(get_stop_words(\"ru\"))\n",
    "exclude = set(punctuation)\n",
    "morpher = MorphAnalyzer()\n",
    "\n",
    "def preprocess_text(txt):\n",
    "    txt = str(txt)\n",
    "    txt = \"\".join(c for c in txt if c not in exclude)\n",
    "    txt = txt.lower()\n",
    "    txt = re.sub(\"\\sне\", \"не\", txt)\n",
    "    txt = [morpher.parse(word)[0].normal_form for word in txt.split() if word not in sw]\n",
    "    return \" \".join(txt)"
   ]
  },
  {
   "cell_type": "code",
   "execution_count": 43,
   "id": "3bc5c573",
   "metadata": {},
   "outputs": [],
   "source": [
    "X_train = X_train.apply(preprocess_text)\n",
    "X_test = X_test.apply(preprocess_text)"
   ]
  },
  {
   "cell_type": "code",
   "execution_count": 44,
   "id": "a0e8d4a9",
   "metadata": {},
   "outputs": [
    {
     "data": {
      "text/plain": [
       "'целое удобноной приложениеиз минус хотеть большой доступ персональный данные телефонеприходиться пользоваться ограниченный режим'"
      ]
     },
     "execution_count": 44,
     "metadata": {},
     "output_type": "execute_result"
    }
   ],
   "source": [
    "X_train[1]"
   ]
  },
  {
   "cell_type": "code",
   "execution_count": 45,
   "id": "1ab0c05c",
   "metadata": {},
   "outputs": [],
   "source": [
    "train_corpus = \" \".join(X_train)\n",
    "train_corpus = train_corpus.lower()"
   ]
  },
  {
   "cell_type": "code",
   "execution_count": 46,
   "id": "0ffb48a0",
   "metadata": {},
   "outputs": [
    {
     "name": "stderr",
     "output_type": "stream",
     "text": [
      "[nltk_data] Downloading package punkt to\n",
      "[nltk_data]     C:\\Users\\Intelit\\AppData\\Roaming\\nltk_data...\n",
      "[nltk_data]   Package punkt is already up-to-date!\n"
     ]
    }
   ],
   "source": [
    "nltk.download(\"punkt\")\n",
    "tokens = word_tokenize(train_corpus)"
   ]
  },
  {
   "cell_type": "code",
   "execution_count": 47,
   "id": "443028c2",
   "metadata": {},
   "outputs": [
    {
     "data": {
      "text/plain": [
       "['наконецтый',\n",
       " 'исправить',\n",
       " 'чушь',\n",
       " 'снеоргинальный',\n",
       " 'прошивка',\n",
       " 'приложение',\n",
       " 'удобно',\n",
       " 'пользоваться',\n",
       " 'удобно',\n",
       " 'использование']"
      ]
     },
     "execution_count": 47,
     "metadata": {},
     "output_type": "execute_result"
    }
   ],
   "source": [
    "tokens[:10]"
   ]
  },
  {
   "cell_type": "code",
   "execution_count": 48,
   "id": "82e129ec",
   "metadata": {},
   "outputs": [],
   "source": [
    "tokens_filtered = [word for word in tokens if word.isalnum()]"
   ]
  },
  {
   "cell_type": "code",
   "execution_count": 49,
   "id": "eb07999d",
   "metadata": {},
   "outputs": [
    {
     "data": {
      "text/plain": [
       "(68998, 69465)"
      ]
     },
     "execution_count": 49,
     "metadata": {},
     "output_type": "execute_result"
    }
   ],
   "source": [
    "len(tokens_filtered), len(tokens)"
   ]
  },
  {
   "cell_type": "code",
   "execution_count": 50,
   "id": "558ccc76",
   "metadata": {},
   "outputs": [],
   "source": [
    "from nltk.probability import FreqDist\n",
    "dist = FreqDist(tokens_filtered)\n",
    "tokens_filtered_top = [pair[0] for pair in dist.most_common(max_words-1)]"
   ]
  },
  {
   "cell_type": "code",
   "execution_count": 51,
   "id": "022cbd41",
   "metadata": {},
   "outputs": [],
   "source": [
    "vocabulary = {v: k for k, v in dict(enumerate(tokens_filtered_top, 1)).items()}"
   ]
  },
  {
   "cell_type": "code",
   "execution_count": null,
   "id": "344866e5",
   "metadata": {},
   "outputs": [],
   "source": []
  },
  {
   "cell_type": "code",
   "execution_count": 52,
   "id": "4551b878",
   "metadata": {},
   "outputs": [],
   "source": [
    "import numpy as np\n",
    "def text_to_sequence(text, maxlen):\n",
    "    result = []\n",
    "    tokens = word_tokenize(text.lower())\n",
    "    tokens_filtered = [word for word in tokens if word.isalnum()]\n",
    "    for word in tokens_filtered:\n",
    "        if word in vocabulary:\n",
    "            result.append(vocabulary[word])\n",
    "    padding = [0]*(maxlen-len(result))\n",
    "    return padding + result[-maxlen:]"
   ]
  },
  {
   "cell_type": "code",
   "execution_count": 53,
   "id": "d7cd6aaf",
   "metadata": {},
   "outputs": [],
   "source": [
    "X_train = np.asarray([text_to_sequence(text, max_len) for text in X_train], dtype=np.int32)\n",
    "X_test = np.asarray([text_to_sequence(text, max_len) for text in X_test], dtype=np.int32)"
   ]
  },
  {
   "cell_type": "code",
   "execution_count": 54,
   "id": "afe6d0cc",
   "metadata": {},
   "outputs": [],
   "source": [
    "import random\n",
    "import torch\n",
    "import torch.nn as nn\n",
    "\n",
    "seed = 0\n",
    "\n",
    "random.seed(seed)\n",
    "np.random.seed(seed)\n",
    "torch.manual_seed(seed)\n",
    "torch.cuda.manual_seed(seed)\n",
    "torch.backends.cudnn.deterministic = True"
   ]
  },
  {
   "cell_type": "code",
   "execution_count": 55,
   "id": "cff65323",
   "metadata": {},
   "outputs": [],
   "source": [
    "class Net(nn.Module):\n",
    "    def __init__(self, vocab_size=max_words, embedding_dim = 64, out_channel = 128, num_classes = 5):\n",
    "        super().__init__()\n",
    "        self.embedding = nn.Embedding(vocab_size, embedding_dim)\n",
    "        self.lstm = nn.LSTM(embedding_dim, out_channel, num_layers=2, batch_first=False)\n",
    "        self.relu = nn.ReLU()\n",
    "        self.linear = nn.Linear(out_channel, num_classes)\n",
    "        self.dropout = nn.Dropout(0.2)\n",
    "        \n",
    "    def forward(self, x):        \n",
    "        output = self.embedding(x)\n",
    "        output = self.dropout(output)\n",
    "        output = self.relu(output)\n",
    "        lstm_out, (ht, ct) = self.lstm(output)\n",
    "        output = torch.mean(lstm_out[:,:], axis=1)\n",
    "        output = self.linear(output)\n",
    "        \n",
    "        \n",
    "        return output"
   ]
  },
  {
   "cell_type": "code",
   "execution_count": 56,
   "id": "9b890ac9",
   "metadata": {},
   "outputs": [],
   "source": [
    "from torch.utils.data import DataLoader, Dataset\n",
    "\n",
    "class DataWrapper(Dataset):\n",
    "    def __init__(self, data, target=None, transform=None):\n",
    "        self.data = torch.from_numpy(data).long()\n",
    "        if target is not None:\n",
    "            self.target = torch.from_numpy(np.array(target)).long()\n",
    "        self.transform = transform\n",
    "        \n",
    "    def __getitem__(self, index):\n",
    "        x = self.data[index]\n",
    "        y = self.target[index] if self.target is not None else None\n",
    "        \n",
    "        if self.transform:\n",
    "            x = self.transform(x)\n",
    "            \n",
    "        return x, y\n",
    "    \n",
    "    def __len__(self):\n",
    "        return len(self.data)"
   ]
  },
  {
   "cell_type": "code",
   "execution_count": 57,
   "id": "282bafc1",
   "metadata": {},
   "outputs": [],
   "source": [
    "train_dataset = DataWrapper(X_train, y_train)\n",
    "train_loader = DataLoader(train_dataset, batch_size=batch_size, shuffle=True)\n",
    "\n",
    "val_dataset = DataWrapper(X_test, y_test)\n",
    "val_loader = DataLoader(val_dataset, batch_size=batch_size, shuffle=True)"
   ]
  },
  {
   "cell_type": "code",
   "execution_count": 58,
   "id": "687f4513",
   "metadata": {},
   "outputs": [
    {
     "name": "stdout",
     "output_type": "stream",
     "text": [
      "Net(\n",
      "  (embedding): Embedding(1000, 64)\n",
      "  (lstm): LSTM(64, 128, num_layers=2)\n",
      "  (relu): ReLU()\n",
      "  (linear): Linear(in_features=128, out_features=5, bias=True)\n",
      "  (dropout): Dropout(p=0.2, inplace=False)\n",
      ")\n",
      "Parameters: 296069\n",
      "Train epoch 1/20\n",
      "Step 0: loss=1.5844147205352783 acc=0.091796875 val_acc=0.7125256673511293\n",
      "Train epoch 2/20\n",
      "Step 0: loss=0.8847301602363586 acc=0.708984375 val_acc=0.7282194191845116\n",
      "Train epoch 3/20\n",
      "Step 0: loss=0.7307130694389343 acc=0.767578125 val_acc=0.7447931944851862\n",
      "Train epoch 4/20\n",
      "Step 0: loss=0.7264098525047302 acc=0.7578125 val_acc=0.7483132883543561\n",
      "Train epoch 5/20\n",
      "Step 0: loss=0.7896979451179504 acc=0.73046875 val_acc=0.748019947198592\n",
      "Train epoch 6/20\n",
      "Step 0: loss=0.6759214401245117 acc=0.77734375 val_acc=0.7527134056908185\n",
      "Train epoch 7/20\n",
      "Step 0: loss=0.6873612999916077 acc=0.763671875 val_acc=0.7571135230272807\n",
      "Train epoch 8/20\n",
      "Step 0: loss=0.6511203050613403 acc=0.779296875 val_acc=0.750073335288941\n",
      "Train epoch 9/20\n",
      "Step 0: loss=0.7446669340133667 acc=0.736328125 val_acc=0.755793487826342\n",
      "Train epoch 10/20\n",
      "Step 0: loss=0.6796848773956299 acc=0.765625 val_acc=0.7648870636550308\n",
      "Train epoch 11/20\n",
      "Step 0: loss=0.6961483955383301 acc=0.763671875 val_acc=0.7621003226752714\n",
      "Train epoch 12/20\n",
      "Step 0: loss=0.604710042476654 acc=0.77734375 val_acc=0.7477266060428278\n",
      "Train epoch 13/20\n",
      "Step 0: loss=0.6168514490127563 acc=0.794921875 val_acc=0.7597535934291582\n",
      "Train epoch 14/20\n",
      "Step 0: loss=0.6283965706825256 acc=0.7734375 val_acc=0.76342035787621\n",
      "Train epoch 15/20\n",
      "Step 0: loss=0.6164575815200806 acc=0.78515625 val_acc=0.7662070988559695\n",
      "Train epoch 16/20\n",
      "Step 0: loss=0.5986277461051941 acc=0.78515625 val_acc=0.7643003813435025\n",
      "Train epoch 17/20\n",
      "Step 0: loss=0.6560689806938171 acc=0.77734375 val_acc=0.7660604282780874\n",
      "Train epoch 18/20\n",
      "Step 0: loss=0.6597981452941895 acc=0.763671875 val_acc=0.7666471105896158\n",
      "Train epoch 19/20\n",
      "Step 0: loss=0.6418329477310181 acc=0.771484375 val_acc=0.770900557348196\n",
      "Train epoch 20/20\n",
      "Step 0: loss=0.6061211824417114 acc=0.794921875 val_acc=0.7682604869463185\n"
     ]
    }
   ],
   "source": [
    "model = Net()\n",
    "\n",
    "print(model)\n",
    "print(\"Parameters:\", sum([param.nelement() for param in model.parameters()]))\n",
    "\n",
    "\n",
    "#model = model.cuda()\n",
    "\n",
    "optimizer = torch.optim.Adam(model.parameters(), lr=10e-3)\n",
    "criterion = nn.CrossEntropyLoss()\n",
    "loss_history = []\n",
    "acc_history = []\n",
    "val_acc_history = []\n",
    "for epoch in range(1, epochs + 1):\n",
    "    print(f\"Train epoch {epoch}/{epochs}\")\n",
    "    for i, (data, target) in enumerate(train_loader):\n",
    "        model.train()\n",
    "        optimizer.zero_grad()\n",
    "        \n",
    "        # data = data.cuda()\n",
    "        # target = target.cuda()\n",
    "        \n",
    "        # compute output\n",
    "        output = model(data)\n",
    "        \n",
    "        # compute gradient and do SGD step\n",
    "        loss = criterion(output, target)\n",
    "        loss.backward()\n",
    "        \n",
    "        optimizer.step()\n",
    "        pos = ((np.argmax(output.detach().numpy(), axis=1)) ==  (target.detach().numpy())).sum()      \n",
    "        acc = pos / len(target)\n",
    "        \n",
    "        model.eval()\n",
    "        sumpos = 0\n",
    "        sumlen = 0\n",
    "        for val_data, val_target in val_loader:\n",
    "            val_output = model(val_data)\n",
    "            val_pos = ((np.argmax(val_output.detach().numpy(), axis=1)) ==  (val_target.detach().numpy())).sum()\n",
    "            sumpos += val_pos\n",
    "            sumlen += len(val_target)\n",
    "        val_acc = sumpos / sumlen\n",
    "        if i%print_batch_n == 0:\n",
    "            loss = loss.float().item()\n",
    "            print(\"Step {}: loss={} acc={} val_acc={}\".format(i, loss, acc, val_acc))\n",
    "            loss_history.append(loss)\n",
    "            acc_history.append(acc)\n",
    "            val_acc_history.append(val_acc)"
   ]
  },
  {
   "cell_type": "code",
   "execution_count": null,
   "id": "db51873c",
   "metadata": {},
   "outputs": [],
   "source": []
  },
  {
   "cell_type": "code",
   "execution_count": 59,
   "id": "c80fe13f",
   "metadata": {},
   "outputs": [
    {
     "data": {
      "image/png": "[encoded data removed]",
      "text/plain": [
       "<Figure size 432x288 with 1 Axes>"
      ]
     },
     "metadata": {
      "needs_background": "light"
     },
     "output_type": "display_data"
    }
   ],
   "source": [
    "import matplotlib.pyplot as plt\n",
    "\n",
    "plt.title('history')\n",
    "plt.grid(True)\n",
    "plt.xlabel('Step')\n",
    "plt.plot(loss_history, label='loss')\n",
    "plt.plot(acc_history, label='acc')\n",
    "plt.plot(val_acc_history, label='val_acc')\n",
    "plt.legend();"
   ]
  },
  {
   "cell_type": "code",
   "execution_count": null,
   "id": "2b5fb893",
   "metadata": {},
   "outputs": [],
   "source": []
  },
  {
   "cell_type": "code",
   "execution_count": null,
   "id": "d0435229",
   "metadata": {},
   "outputs": [],
   "source": []
  }
 ],
 "metadata": {
  "kernelspec": {
   "display_name": "Python 3 (ipykernel)",
   "language": "python",
   "name": "python3"
  },
  "language_info": {
   "codemirror_mode": {
    "name": "ipython",
    "version": 3
   },
   "file_extension": ".py",
   "mimetype": "text/x-python",
   "name": "python",
   "nbconvert_exporter": "python",
   "pygments_lexer": "ipython3",
   "version": "3.9.12"
  }
 },
 "nbformat": 4,
 "nbformat_minor": 5
}
