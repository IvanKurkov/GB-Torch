{
 "cells": [
  {
   "cell_type": "markdown",
   "id": "0ef9de5f",
   "metadata": {},
   "source": [
    "### В задании сказано сделать классификацию оценки от 1 до 5 звезд продукта по отзыву."
   ]
  },
  {
   "cell_type": "markdown",
   "id": "914fcd8b",
   "metadata": {},
   "source": [
    "- Можно ли было решать ее как задачц регресии и насколько это правильно?\n",
    "- По обучению:  Лосс хорошо падал, и качаество на трейне росло - значит модель хорошо обучалась. Однако вот качество на тесте оставалось примерно таким же. "
   ]
  },
  {
   "cell_type": "code",
   "execution_count": 1,
   "id": "2daf1c6a",
   "metadata": {},
   "outputs": [],
   "source": [
    "import pandas as pd\n",
    "from sklearn.model_selection import train_test_split\n",
    "from string import punctuation\n",
    "from stop_words import get_stop_words\n",
    "from pymorphy2 import MorphAnalyzer\n",
    "import re\n",
    "import nltk\n",
    "from nltk.tokenize import word_tokenize\n",
    "import torch\n",
    "import torch.nn.functional as F"
   ]
  },
  {
   "cell_type": "code",
   "execution_count": 2,
   "id": "2ac29ead",
   "metadata": {},
   "outputs": [],
   "source": [
    "max_words = 4000\n",
    "max_len = 20\n",
    "num_classes = 5\n",
    "\n",
    "# Training\n",
    "epochs = 20\n",
    "batch_size = 512\n",
    "print_batch_n = 100"
   ]
  },
  {
   "cell_type": "code",
   "execution_count": 3,
   "id": "40b5590c",
   "metadata": {},
   "outputs": [],
   "source": [
    "df = pd.read_excel('review.xls')  "
   ]
  },
  {
   "cell_type": "code",
   "execution_count": 4,
   "id": "2ede695e",
   "metadata": {},
   "outputs": [],
   "source": [
    "df_X = df['Content']\n",
    "df_y = df['Rating']"
   ]
  },
  {
   "cell_type": "code",
   "execution_count": 5,
   "id": "1d3274c9",
   "metadata": {},
   "outputs": [],
   "source": [
    "df_y = df_y - 1 # Делаем, что бы был 0 класс, особенность лосса, если подавать 1-5 классы, выдает ошибку, если подавать 0-4 то норм."
   ]
  },
  {
   "cell_type": "code",
   "execution_count": 6,
   "id": "0b05d8ca",
   "metadata": {},
   "outputs": [
    {
     "data": {
      "text/plain": [
       "'В целом удобноное приложение...из минусов хотят слишком большой доступ к персональным данным в телефоне,приходится пользоваться в ограниченном режиме'"
      ]
     },
     "execution_count": 6,
     "metadata": {},
     "output_type": "execute_result"
    }
   ],
   "source": [
    "df_X[1]"
   ]
  },
  {
   "cell_type": "code",
   "execution_count": 7,
   "id": "3bdb20bb",
   "metadata": {},
   "outputs": [],
   "source": [
    "X_train, X_test, y_train, y_test = train_test_split(df_X, df_y, test_size=0.33, random_state=42)"
   ]
  },
  {
   "cell_type": "code",
   "execution_count": 8,
   "id": "50c24cb8",
   "metadata": {},
   "outputs": [],
   "source": [
    "sw = set(get_stop_words(\"ru\"))\n",
    "exclude = set(punctuation)\n",
    "morpher = MorphAnalyzer()\n",
    "\n",
    "def preprocess_text(txt):\n",
    "    txt = str(txt)\n",
    "    txt = \"\".join(c for c in txt if c not in exclude)\n",
    "    txt = txt.lower()\n",
    "    txt = re.sub(\"\\sне\", \"не\", txt)\n",
    "    txt = [morpher.parse(word)[0].normal_form for word in txt.split() if word not in sw]\n",
    "    return \" \".join(txt)"
   ]
  },
  {
   "cell_type": "code",
   "execution_count": 9,
   "id": "3bc5c573",
   "metadata": {},
   "outputs": [],
   "source": [
    "X_train = X_train.apply(preprocess_text)\n",
    "X_test = X_test.apply(preprocess_text)"
   ]
  },
  {
   "cell_type": "code",
   "execution_count": 10,
   "id": "a0e8d4a9",
   "metadata": {},
   "outputs": [
    {
     "data": {
      "text/plain": [
       "'целое удобноной приложениеиз минус хотеть большой доступ персональный данные телефонеприходиться пользоваться ограниченный режим'"
      ]
     },
     "execution_count": 10,
     "metadata": {},
     "output_type": "execute_result"
    }
   ],
   "source": [
    "X_train[1]"
   ]
  },
  {
   "cell_type": "code",
   "execution_count": 11,
   "id": "1ab0c05c",
   "metadata": {},
   "outputs": [],
   "source": [
    "train_corpus = \" \".join(X_train)\n",
    "train_corpus = train_corpus.lower()"
   ]
  },
  {
   "cell_type": "code",
   "execution_count": 12,
   "id": "0ffb48a0",
   "metadata": {},
   "outputs": [
    {
     "name": "stderr",
     "output_type": "stream",
     "text": [
      "[nltk_data] Downloading package punkt to\n",
      "[nltk_data]     C:\\Users\\Intelit\\AppData\\Roaming\\nltk_data...\n",
      "[nltk_data]   Package punkt is already up-to-date!\n"
     ]
    }
   ],
   "source": [
    "nltk.download(\"punkt\")\n",
    "tokens = word_tokenize(train_corpus)"
   ]
  },
  {
   "cell_type": "code",
   "execution_count": 13,
   "id": "443028c2",
   "metadata": {},
   "outputs": [
    {
     "data": {
      "text/plain": [
       "['наконецтый',\n",
       " 'исправить',\n",
       " 'чушь',\n",
       " 'снеоргинальный',\n",
       " 'прошивка',\n",
       " 'приложение',\n",
       " 'удобно',\n",
       " 'пользоваться',\n",
       " 'удобно',\n",
       " 'использование']"
      ]
     },
     "execution_count": 13,
     "metadata": {},
     "output_type": "execute_result"
    }
   ],
   "source": [
    "tokens[:10]"
   ]
  },
  {
   "cell_type": "code",
   "execution_count": 14,
   "id": "82e129ec",
   "metadata": {},
   "outputs": [],
   "source": [
    "tokens_filtered = [word for word in tokens if word.isalnum()]"
   ]
  },
  {
   "cell_type": "code",
   "execution_count": 15,
   "id": "eb07999d",
   "metadata": {},
   "outputs": [
    {
     "data": {
      "text/plain": [
       "(68998, 69465)"
      ]
     },
     "execution_count": 15,
     "metadata": {},
     "output_type": "execute_result"
    }
   ],
   "source": [
    "len(tokens_filtered), len(tokens)"
   ]
  },
  {
   "cell_type": "code",
   "execution_count": 16,
   "id": "558ccc76",
   "metadata": {},
   "outputs": [],
   "source": [
    "from nltk.probability import FreqDist\n",
    "dist = FreqDist(tokens_filtered)\n",
    "tokens_filtered_top = [pair[0] for pair in dist.most_common(max_words-1)]"
   ]
  },
  {
   "cell_type": "code",
   "execution_count": 17,
   "id": "7e176bfd",
   "metadata": {},
   "outputs": [
    {
     "data": {
      "text/plain": [
       "['приложение',\n",
       " 'удобно',\n",
       " 'работать',\n",
       " 'удобный',\n",
       " 'отлично',\n",
       " 'нравиться',\n",
       " 'хороший',\n",
       " 'отличный',\n",
       " 'телефон',\n",
       " 'супер']"
      ]
     },
     "execution_count": 17,
     "metadata": {},
     "output_type": "execute_result"
    }
   ],
   "source": [
    "tokens_filtered_top[:10]"
   ]
  },
  {
   "cell_type": "code",
   "execution_count": 18,
   "id": "022cbd41",
   "metadata": {},
   "outputs": [],
   "source": [
    "vocabulary = {v: k for k, v in dict(enumerate(tokens_filtered_top, 1)).items()}"
   ]
  },
  {
   "cell_type": "code",
   "execution_count": 19,
   "id": "4551b878",
   "metadata": {},
   "outputs": [],
   "source": [
    "import numpy as np\n",
    "def text_to_sequence(text, maxlen):\n",
    "    result = []\n",
    "    tokens = word_tokenize(text.lower())\n",
    "    tokens_filtered = [word for word in tokens if word.isalnum()]\n",
    "    for word in tokens_filtered:\n",
    "        if word in vocabulary:\n",
    "            result.append(vocabulary[word])\n",
    "    padding = [0]*(maxlen-len(result))\n",
    "    return padding + result[-maxlen:]"
   ]
  },
  {
   "cell_type": "code",
   "execution_count": 20,
   "id": "d7cd6aaf",
   "metadata": {},
   "outputs": [],
   "source": [
    "X_train = np.asarray([text_to_sequence(text, max_len) for text in X_train], dtype=np.int32)\n",
    "X_test = np.asarray([text_to_sequence(text, max_len) for text in X_test], dtype=np.int32)"
   ]
  },
  {
   "cell_type": "code",
   "execution_count": 21,
   "id": "afe6d0cc",
   "metadata": {},
   "outputs": [],
   "source": [
    "import random\n",
    "import torch\n",
    "import torch.nn as nn\n",
    "\n",
    "seed = 0\n",
    "\n",
    "random.seed(seed)\n",
    "np.random.seed(seed)\n",
    "torch.manual_seed(seed)\n",
    "torch.cuda.manual_seed(seed)\n",
    "torch.backends.cudnn.deterministic = True"
   ]
  },
  {
   "cell_type": "code",
   "execution_count": 22,
   "id": "cff65323",
   "metadata": {},
   "outputs": [],
   "source": [
    "class Net(nn.Module):\n",
    "    def __init__(self, vocab_size=20, embedding_dim = 256, out_channel = 128, num_classes = 5):\n",
    "        super().__init__()\n",
    "        self.embedding = nn.Embedding(vocab_size, embedding_dim)\n",
    "        self.conv = nn.Conv1d(embedding_dim, out_channel, kernel_size=3)\n",
    "        self.relu = nn.ReLU()\n",
    "        self.linear = nn.Linear(out_channel, num_classes)\n",
    "        \n",
    "    def forward(self, x):        \n",
    "        output = self.embedding(x)\n",
    "        #                       B  F  L         \n",
    "        output = output.permute(0, 2, 1)\n",
    "        output = self.conv(output)\n",
    "        output = self.relu(output)\n",
    "        output = torch.max(output, axis=2).values\n",
    "        output = self.linear(output)\n",
    "        \n",
    "        \n",
    "        return output"
   ]
  },
  {
   "cell_type": "code",
   "execution_count": 23,
   "id": "9b890ac9",
   "metadata": {},
   "outputs": [],
   "source": [
    "from torch.utils.data import DataLoader, Dataset\n",
    "\n",
    "class DataWrapper(Dataset):\n",
    "    def __init__(self, data, target=None, transform=None):\n",
    "        self.data = torch.from_numpy(data).long()\n",
    "        if target is not None:\n",
    "            self.target = torch.from_numpy(np.array(target)).long()\n",
    "        self.transform = transform\n",
    "        \n",
    "    def __getitem__(self, index):\n",
    "        x = self.data[index]\n",
    "        y = self.target[index] if self.target is not None else None\n",
    "        \n",
    "        if self.transform:\n",
    "            x = self.transform(x)\n",
    "            \n",
    "        return x, y\n",
    "    \n",
    "    def __len__(self):\n",
    "        return len(self.data)"
   ]
  },
  {
   "cell_type": "code",
   "execution_count": 24,
   "id": "282bafc1",
   "metadata": {},
   "outputs": [],
   "source": [
    "train_dataset = DataWrapper(X_train, y_train)\n",
    "train_loader = DataLoader(train_dataset, batch_size=batch_size, shuffle=True)\n",
    "\n",
    "val_dataset = DataWrapper(X_test, y_test)\n",
    "val_loader = DataLoader(val_dataset, batch_size=batch_size, shuffle=True)"
   ]
  },
  {
   "cell_type": "code",
   "execution_count": 25,
   "id": "687f4513",
   "metadata": {},
   "outputs": [
    {
     "name": "stdout",
     "output_type": "stream",
     "text": [
      "Net(\n",
      "  (embedding): Embedding(4000, 256)\n",
      "  (conv): Conv1d(256, 128, kernel_size=(3,), stride=(1,))\n",
      "  (relu): ReLU()\n",
      "  (linear): Linear(in_features=128, out_features=5, bias=True)\n",
      ")\n",
      "Parameters: 1123077\n",
      "Train epoch 1/20\n",
      "Step 0: loss=1.8387144804000854 acc=0.0859375 val_acc=0.7125256673511293\n",
      "Train epoch 2/20\n",
      "Step 0: loss=0.5834066867828369 acc=0.814453125 val_acc=0.7522733939571722\n",
      "Train epoch 3/20\n",
      "Step 0: loss=0.4126602113246918 acc=0.880859375 val_acc=0.7550601349369317\n",
      "Train epoch 4/20\n",
      "Step 0: loss=0.316721111536026 acc=0.89453125 val_acc=0.7456732179524788\n",
      "Train epoch 5/20\n",
      "Step 0: loss=0.3045041561126709 acc=0.916015625 val_acc=0.7509533587562335\n",
      "Train epoch 6/20\n",
      "Step 0: loss=0.21730968356132507 acc=0.94140625 val_acc=0.7354062775007334\n",
      "Train epoch 7/20\n",
      "Step 0: loss=0.2843067944049835 acc=0.908203125 val_acc=0.627750073335289\n",
      "Train epoch 8/20\n",
      "Step 0: loss=0.2015341967344284 acc=0.9375 val_acc=0.7424464652390731\n",
      "Train epoch 9/20\n",
      "Step 0: loss=0.18749690055847168 acc=0.94140625 val_acc=0.7486066295101202\n",
      "Train epoch 10/20\n",
      "Step 0: loss=0.19882160425186157 acc=0.943359375 val_acc=0.7506600176004693\n",
      "Train epoch 11/20\n",
      "Step 0: loss=0.18947206437587738 acc=0.9453125 val_acc=0.7455265473745967\n",
      "Train epoch 12/20\n",
      "Step 0: loss=0.1744258999824524 acc=0.953125 val_acc=0.7484599589322382\n",
      "Train epoch 13/20\n",
      "Step 0: loss=0.13075771927833557 acc=0.955078125 val_acc=0.7299794661190965\n",
      "Train epoch 14/20\n",
      "Step 0: loss=0.1365898847579956 acc=0.962890625 val_acc=0.7521267233792901\n",
      "Train epoch 15/20\n",
      "Step 0: loss=0.12855926156044006 acc=0.966796875 val_acc=0.7456732179524788\n",
      "Train epoch 16/20\n",
      "Step 0: loss=0.15977805852890015 acc=0.951171875 val_acc=0.7533000880023467\n",
      "Train epoch 17/20\n",
      "Step 0: loss=0.1693452149629593 acc=0.94921875 val_acc=0.7550601349369317\n",
      "Train epoch 18/20\n",
      "Step 0: loss=0.17360585927963257 acc=0.951171875 val_acc=0.7453798767967146\n",
      "Train epoch 19/20\n",
      "Step 0: loss=0.135739266872406 acc=0.95703125 val_acc=0.7506600176004693\n",
      "Train epoch 20/20\n",
      "Step 0: loss=0.15460678935050964 acc=0.958984375 val_acc=0.7412731006160165\n"
     ]
    }
   ],
   "source": [
    "model = Net(vocab_size=max_words)\n",
    "\n",
    "print(model)\n",
    "print(\"Parameters:\", sum([param.nelement() for param in model.parameters()]))\n",
    "\n",
    "\n",
    "#model = model.cuda()\n",
    "\n",
    "optimizer = torch.optim.Adam(model.parameters(), lr=10e-3)\n",
    "criterion = nn.CrossEntropyLoss()\n",
    "loss_history = []\n",
    "acc_history = []\n",
    "val_acc_history = []\n",
    "for epoch in range(1, epochs + 1):\n",
    "    print(f\"Train epoch {epoch}/{epochs}\")\n",
    "    for i, (data, target) in enumerate(train_loader):\n",
    "        model.train()\n",
    "        optimizer.zero_grad()\n",
    "        \n",
    "        # data = data.cuda()\n",
    "        # target = target.cuda()\n",
    "        \n",
    "        # compute output\n",
    "        output = model(data)\n",
    "        \n",
    "        # compute gradient and do SGD step\n",
    "        loss = criterion(output, target)\n",
    "        loss.backward()\n",
    "        \n",
    "        optimizer.step()\n",
    "        pos = ((np.argmax(output.detach().numpy(), axis=1)) ==  (target.detach().numpy())).sum()      \n",
    "        acc = pos / len(target)\n",
    "        \n",
    "        model.eval()\n",
    "        sumpos = 0\n",
    "        sumlen = 0\n",
    "        for val_data, val_target in val_loader:\n",
    "            val_output = model(val_data)\n",
    "            val_pos = ((np.argmax(val_output.detach().numpy(), axis=1)) ==  (val_target.detach().numpy())).sum()\n",
    "            sumpos += val_pos\n",
    "            sumlen += len(val_target)\n",
    "        val_acc = sumpos / sumlen\n",
    "        if i%print_batch_n == 0:\n",
    "            loss = loss.float().item()\n",
    "            print(\"Step {}: loss={} acc={} val_acc={}\".format(i, loss, acc, val_acc))\n",
    "            loss_history.append(loss)\n",
    "            acc_history.append(acc)\n",
    "            val_acc_history.append(val_acc)"
   ]
  },
  {
   "cell_type": "code",
   "execution_count": null,
   "id": "db51873c",
   "metadata": {},
   "outputs": [],
   "source": []
  },
  {
   "cell_type": "code",
   "execution_count": 26,
   "id": "c80fe13f",
   "metadata": {},
   "outputs": [
    {
     "data": {
      "image/png": "[encoded data removed]",
      "text/plain": [
       "<Figure size 432x288 with 1 Axes>"
      ]
     },
     "metadata": {
      "needs_background": "light"
     },
     "output_type": "display_data"
    }
   ],
   "source": [
    "import matplotlib.pyplot as plt\n",
    "\n",
    "plt.title('history')\n",
    "plt.grid(True)\n",
    "plt.xlabel('Step')\n",
    "plt.plot(loss_history, label='loss')\n",
    "plt.plot(acc_history, label='acc')\n",
    "plt.plot(val_acc_history, label='val_acc')\n",
    "plt.legend();"
   ]
  },
  {
   "cell_type": "code",
   "execution_count": null,
   "id": "2b5fb893",
   "metadata": {},
   "outputs": [],
   "source": []
  },
  {
   "cell_type": "code",
   "execution_count": null,
   "id": "d0435229",
   "metadata": {},
   "outputs": [],
   "source": []
  }
 ],
 "metadata": {
  "kernelspec": {
   "display_name": "Python 3",
   "language": "python",
   "name": "python3"
  },
  "language_info": {
   "codemirror_mode": {
    "name": "ipython",
    "version": 3
   },
   "file_extension": ".py",
   "mimetype": "text/x-python",
   "name": "python",
   "nbconvert_exporter": "python",
   "pygments_lexer": "ipython3",
   "version": "3.8.8"
  }
 },
 "nbformat": 4,
 "nbformat_minor": 5
}
