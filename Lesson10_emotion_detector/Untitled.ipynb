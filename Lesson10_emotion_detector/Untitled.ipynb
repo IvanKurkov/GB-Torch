{
 "cells": [
  {
   "cell_type": "markdown",
   "id": "93ba2eb9",
   "metadata": {},
   "source": [
    "### План\n",
    "1) Надо обучить классификатор для классификации жестов. Можно взять предобученную сетку, например resnet18 как в 4 уроке.\n",
    " - Качаем датасет\n",
    " - Делаем наш датасет класс\n",
    " - Делаем даталоадер\n",
    " - Обучаем классификатор\n",
    " \n",
    "2) Пишем пайплайн для детекции лиц и если найдено лицо, то делаем классификацию картинки через нашу модель. \n",
    "  - Скрипт можно взять и переписать с лекции 10"
   ]
  },
  {
   "cell_type": "code",
   "execution_count": null,
   "id": "dcc4370d",
   "metadata": {},
   "outputs": [],
   "source": []
  }
 ],
 "metadata": {
  "kernelspec": {
   "display_name": "Python 3",
   "language": "python",
   "name": "python3"
  },
  "language_info": {
   "codemirror_mode": {
    "name": "ipython",
    "version": 3
   },
   "file_extension": ".py",
   "mimetype": "text/x-python",
   "name": "python",
   "nbconvert_exporter": "python",
   "pygments_lexer": "ipython3",
   "version": "3.8.8"
  }
 },
 "nbformat": 4,
 "nbformat_minor": 5
}
