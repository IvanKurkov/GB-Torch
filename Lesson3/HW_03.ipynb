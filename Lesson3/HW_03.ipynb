{
 "cells": [
  {
   "cell_type": "markdown",
   "metadata": {},
   "source": [
    "# Попрактикуемся с тем, что изучили\n",
    "\n",
    "Будем практиковаться на датасете:\n",
    "https://www.kaggle.com/c/avito-demand-prediction\n",
    "\n",
    "Ваша задача:\n",
    "1. Создать Dataset для загрузки данных (используем только числовые данные)\n",
    "2. Обернуть его в Dataloader\n",
    "3. Написать архитектуру сети, которая предсказывает число показов на основании числовых данных (вы всегда можете нагенерить дополнительных факторов). Сеть должна включать BatchNorm слои и Dropout (или НЕ включать, но нужно обосновать)\n",
    "4. Учить будем на функцию потерь с кагла (log RMSE) - нужно её реализовать\n",
    "5. Сравните сходимость Adam, RMSProp и SGD, сделайте вывод по качеству работы модели\n",
    "\n",
    "train-test разделение нужно сделать с помощью sklearn random_state=13, test_size = 0.25\n",
    "\n",
    "Вопросы? в личку @Kinetikm"
   ]
  },
  {
   "cell_type": "code",
   "execution_count": 1,
   "metadata": {},
   "outputs": [],
   "source": [
    "import pandas as pd\n",
    "from sklearn.model_selection import train_test_split\n",
    "import math\n",
    "import torch\n",
    "from torchvision import transforms\n",
    "import torch.nn.functional as F\n",
    "import torch.nn as nn\n",
    "from tqdm import tqdm\n",
    "import numpy as np"
   ]
  },
  {
   "cell_type": "code",
   "execution_count": 2,
   "metadata": {},
   "outputs": [],
   "source": [
    "DATA_PATH = 'train.csv'"
   ]
  },
  {
   "cell_type": "code",
   "execution_count": 3,
   "metadata": {},
   "outputs": [],
   "source": [
    "data = pd.read_csv(DATA_PATH)"
   ]
  },
  {
   "cell_type": "code",
   "execution_count": 4,
   "metadata": {
    "scrolled": true
   },
   "outputs": [
    {
     "name": "stdout",
     "output_type": "stream",
     "text": [
      "<class 'pandas.core.frame.DataFrame'>\n",
      "RangeIndex: 1503424 entries, 0 to 1503423\n",
      "Data columns (total 18 columns):\n",
      " #   Column                Non-Null Count    Dtype  \n",
      "---  ------                --------------    -----  \n",
      " 0   item_id               1503424 non-null  object \n",
      " 1   user_id               1503424 non-null  object \n",
      " 2   region                1503424 non-null  object \n",
      " 3   city                  1503424 non-null  object \n",
      " 4   parent_category_name  1503424 non-null  object \n",
      " 5   category_name         1503424 non-null  object \n",
      " 6   param_1               1441848 non-null  object \n",
      " 7   param_2               848882 non-null   object \n",
      " 8   param_3               640859 non-null   object \n",
      " 9   title                 1503424 non-null  object \n",
      " 10  description           1387148 non-null  object \n",
      " 11  price                 1418062 non-null  float64\n",
      " 12  item_seq_number       1503424 non-null  int64  \n",
      " 13  activation_date       1503424 non-null  object \n",
      " 14  user_type             1503424 non-null  object \n",
      " 15  image                 1390836 non-null  object \n",
      " 16  image_top_1           1390836 non-null  float64\n",
      " 17  deal_probability      1503424 non-null  float64\n",
      "dtypes: float64(3), int64(1), object(14)\n",
      "memory usage: 206.5+ MB\n"
     ]
    }
   ],
   "source": [
    "data.info()"
   ]
  },
  {
   "cell_type": "code",
   "execution_count": 5,
   "metadata": {},
   "outputs": [],
   "source": [
    "data = data.dropna()"
   ]
  },
  {
   "cell_type": "code",
   "execution_count": 6,
   "metadata": {},
   "outputs": [
    {
     "data": {
      "text/plain": [
       "0.00000    400250\n",
       "0.80323     20339\n",
       "0.73760     13292\n",
       "0.12579      4219\n",
       "0.27307      2165\n",
       "            ...  \n",
       "0.22507         1\n",
       "0.47305         1\n",
       "0.48441         1\n",
       "0.36069         1\n",
       "0.44871         1\n",
       "Name: deal_probability, Length: 3346, dtype: int64"
      ]
     },
     "execution_count": 6,
     "metadata": {},
     "output_type": "execute_result"
    }
   ],
   "source": [
    "data['deal_probability'].value_counts()"
   ]
  },
  {
   "cell_type": "code",
   "execution_count": 7,
   "metadata": {},
   "outputs": [],
   "source": [
    "data = data[['price', 'image_top_1', 'item_seq_number', 'deal_probability']]"
   ]
  },
  {
   "cell_type": "code",
   "execution_count": 8,
   "metadata": {},
   "outputs": [],
   "source": [
    "X_train, X_test, y_train, y_test = train_test_split(data.drop('deal_probability', axis=1), data['deal_probability'], random_state=13, test_size = 0.25)"
   ]
  },
  {
   "cell_type": "code",
   "execution_count": null,
   "metadata": {},
   "outputs": [],
   "source": []
  },
  {
   "cell_type": "code",
   "execution_count": 9,
   "metadata": {},
   "outputs": [],
   "source": [
    "class HWDataSet(torch.utils.data.Dataset):\n",
    "    def __init__(self, X, y):    \n",
    "        self.X = X\n",
    "        self.y = y\n",
    "\n",
    "    def __len__(self):\n",
    "        return self.X.shape[0]\n",
    "\n",
    "    def __getitem__(self, index):\n",
    "        X_item = torch.FloatTensor(self.X.iloc[index].values)\n",
    "        y_item = torch.FloatTensor(np.array(self.y.iloc[index]))\n",
    "        return X_item, y_item"
   ]
  },
  {
   "cell_type": "code",
   "execution_count": 10,
   "metadata": {},
   "outputs": [],
   "source": [
    "train_dataset = HWDataSet(X_train, y_train)\n",
    "test_dataset = HWDataSet(X_test, y_test)"
   ]
  },
  {
   "cell_type": "code",
   "execution_count": 11,
   "metadata": {},
   "outputs": [],
   "source": [
    "train_loader = torch.utils.data.DataLoader(train_dataset, batch_size=256, shuffle=True, drop_last=True)\n",
    "test_loader = torch.utils.data.DataLoader(test_dataset, batch_size=256, shuffle=False, drop_last=True)"
   ]
  },
  {
   "cell_type": "code",
   "execution_count": 12,
   "metadata": {},
   "outputs": [
    {
     "name": "stdout",
     "output_type": "stream",
     "text": [
      "torch.FloatTensor\n"
     ]
    }
   ],
   "source": [
    "for batch, label in train_loader:\n",
    "    print(label.type())\n",
    "    break"
   ]
  },
  {
   "cell_type": "code",
   "execution_count": 13,
   "metadata": {},
   "outputs": [],
   "source": [
    "class MyNet(nn.Module):\n",
    "    def __init__(self, input_dim, hidden_dim):\n",
    "        super(MyNet, self).__init__()\n",
    "        self.fc0 = nn.Linear(input_dim, hidden_dim)\n",
    "        self.bn1 = nn.BatchNorm1d(hidden_dim)\n",
    "        self.fc1 = nn.Linear(hidden_dim, hidden_dim*3)\n",
    "        self.bn2 = nn.BatchNorm1d(hidden_dim*3)\n",
    "        self.dp = nn.Dropout(0.25)\n",
    "        self.fc2 = nn.Linear(hidden_dim*3, 1)\n",
    "        \n",
    "    def forward(self, x):\n",
    "        x = self.fc0(x)\n",
    "        x = F.relu(x)\n",
    "        x = self.bn1(x)\n",
    "        x = self.fc1(x)\n",
    "        x = F.relu(x)\n",
    "        x = self.bn2(x)\n",
    "        x = self.dp(x)\n",
    "        x = self.fc2(x)\n",
    "        return x"
   ]
  },
  {
   "cell_type": "code",
   "execution_count": 14,
   "metadata": {},
   "outputs": [],
   "source": [
    "net = MyNet(3, 10)\n",
    "\n",
    "optimizer = torch.optim.SGD(net.parameters(), lr=0.0001)\n",
    "criterion = nn.MSELoss()"
   ]
  },
  {
   "cell_type": "code",
   "execution_count": 15,
   "metadata": {},
   "outputs": [
    {
     "name": "stderr",
     "output_type": "stream",
     "text": [
      "\r",
      "  0%|                                                                                           | 0/10 [00:00<?, ?it/s]"
     ]
    },
    {
     "name": "stdout",
     "output_type": "stream",
     "text": [
      "[1,     1] loss: 0.002\n"
     ]
    },
    {
     "name": "stderr",
     "output_type": "stream",
     "text": [
      "C:\\Users\\user\\anaconda3\\lib\\site-packages\\torch\\nn\\modules\\loss.py:530: UserWarning: Using a target size (torch.Size([256])) that is different to the input size (torch.Size([256, 1])). This will likely lead to incorrect results due to broadcasting. Please ensure they have the same size.\n",
      "  return F.mse_loss(input, target, reduction=self.reduction)\n"
     ]
    },
    {
     "name": "stdout",
     "output_type": "stream",
     "text": [
      "[1,   301] loss: 0.538\n",
      "[1,   601] loss: 0.435\n",
      "[1,   901] loss: 0.390\n",
      "[1,  1201] loss: 0.363\n",
      "[1,  1501] loss: 0.342\n"
     ]
    },
    {
     "name": "stderr",
     "output_type": "stream",
     "text": [
      "\r",
      " 10%|████████▎                                                                          | 1/10 [00:46<06:57, 46.42s/it]"
     ]
    },
    {
     "name": "stdout",
     "output_type": "stream",
     "text": [
      "[2,     1] loss: 0.001\n",
      "[2,   301] loss: 0.332\n",
      "[2,   601] loss: 0.319\n",
      "[2,   901] loss: 0.313\n",
      "[2,  1201] loss: 0.307\n",
      "[2,  1501] loss: 0.302\n"
     ]
    },
    {
     "name": "stderr",
     "output_type": "stream",
     "text": [
      "\r",
      " 20%|████████████████▌                                                                  | 2/10 [01:31<06:06, 45.85s/it]"
     ]
    },
    {
     "name": "stdout",
     "output_type": "stream",
     "text": [
      "[3,     1] loss: 0.001\n",
      "[3,   301] loss: 0.294\n",
      "[3,   601] loss: 0.291\n",
      "[3,   901] loss: 0.281\n",
      "[3,  1201] loss: 0.276\n",
      "[3,  1501] loss: 0.270\n"
     ]
    },
    {
     "name": "stderr",
     "output_type": "stream",
     "text": [
      "\r",
      " 30%|████████████████████████▉                                                          | 3/10 [02:15<05:12, 44.63s/it]"
     ]
    },
    {
     "name": "stdout",
     "output_type": "stream",
     "text": [
      "[4,     1] loss: 0.001\n",
      "[4,   301] loss: 0.266\n",
      "[4,   601] loss: 0.260\n",
      "[4,   901] loss: 0.259\n",
      "[4,  1201] loss: 0.261\n",
      "[4,  1501] loss: 0.253\n"
     ]
    },
    {
     "name": "stderr",
     "output_type": "stream",
     "text": [
      "\r",
      " 40%|█████████████████████████████████▏                                                 | 4/10 [03:00<04:29, 44.93s/it]"
     ]
    },
    {
     "name": "stdout",
     "output_type": "stream",
     "text": [
      "[5,     1] loss: 0.001\n",
      "[5,   301] loss: 0.249\n",
      "[5,   601] loss: 0.249\n",
      "[5,   901] loss: 0.241\n",
      "[5,  1201] loss: 0.242\n",
      "[5,  1501] loss: 0.238\n"
     ]
    },
    {
     "name": "stderr",
     "output_type": "stream",
     "text": [
      "\r",
      " 50%|█████████████████████████████████████████▌                                         | 5/10 [03:46<03:47, 45.41s/it]"
     ]
    },
    {
     "name": "stdout",
     "output_type": "stream",
     "text": [
      "[6,     1] loss: 0.001\n",
      "[6,   301] loss: 0.236\n",
      "[6,   601] loss: 0.238\n",
      "[6,   901] loss: 0.233\n",
      "[6,  1201] loss: 0.229\n",
      "[6,  1501] loss: 0.232\n"
     ]
    },
    {
     "name": "stderr",
     "output_type": "stream",
     "text": [
      "\r",
      " 60%|█████████████████████████████████████████████████▊                                 | 6/10 [04:32<03:02, 45.70s/it]"
     ]
    },
    {
     "name": "stdout",
     "output_type": "stream",
     "text": [
      "[7,     1] loss: 0.001\n",
      "[7,   301] loss: 0.227\n",
      "[7,   601] loss: 0.227\n",
      "[7,   901] loss: 0.228\n",
      "[7,  1201] loss: 0.224\n",
      "[7,  1501] loss: 0.223\n"
     ]
    },
    {
     "name": "stderr",
     "output_type": "stream",
     "text": [
      "\r",
      " 70%|██████████████████████████████████████████████████████████                         | 7/10 [05:19<02:17, 45.83s/it]"
     ]
    },
    {
     "name": "stdout",
     "output_type": "stream",
     "text": [
      "[8,     1] loss: 0.001\n",
      "[8,   301] loss: 0.222\n",
      "[8,   601] loss: 0.223\n",
      "[8,   901] loss: 0.220\n",
      "[8,  1201] loss: 0.219\n",
      "[8,  1501] loss: 0.220\n"
     ]
    },
    {
     "name": "stderr",
     "output_type": "stream",
     "text": [
      "\r",
      " 80%|██████████████████████████████████████████████████████████████████▍                | 8/10 [06:05<01:32, 46.09s/it]"
     ]
    },
    {
     "name": "stdout",
     "output_type": "stream",
     "text": [
      "[9,     1] loss: 0.001\n",
      "[9,   301] loss: 0.219\n",
      "[9,   601] loss: 0.219\n",
      "[9,   901] loss: 0.216\n",
      "[9,  1201] loss: 0.216\n",
      "[9,  1501] loss: 0.217\n"
     ]
    },
    {
     "name": "stderr",
     "output_type": "stream",
     "text": [
      "\r",
      " 90%|██████████████████████████████████████████████████████████████████████████▋        | 9/10 [06:51<00:46, 46.13s/it]"
     ]
    },
    {
     "name": "stdout",
     "output_type": "stream",
     "text": [
      "[10,     1] loss: 0.001\n",
      "[10,   301] loss: 0.216\n",
      "[10,   601] loss: 0.216\n",
      "[10,   901] loss: 0.215\n",
      "[10,  1201] loss: 0.216\n",
      "[10,  1501] loss: 0.214\n"
     ]
    },
    {
     "name": "stderr",
     "output_type": "stream",
     "text": [
      "100%|██████████████████████████████████████████████████████████████████████████████████| 10/10 [07:38<00:00, 45.84s/it]"
     ]
    },
    {
     "name": "stdout",
     "output_type": "stream",
     "text": [
      "Training is finished!\n"
     ]
    },
    {
     "name": "stderr",
     "output_type": "stream",
     "text": [
      "\n"
     ]
    }
   ],
   "source": [
    "for epoch in tqdm(range(10)):  \n",
    "    running_loss = 0.0\n",
    "    for i, data in enumerate(train_loader, 0):\n",
    "        inputs, labels = data[0], data[1]\n",
    "\n",
    "        # обнуляем градиент\n",
    "        optimizer.zero_grad()\n",
    "\n",
    "        outputs = net(inputs)\n",
    "        loss = torch.sqrt(criterion(outputs, labels))\n",
    "        loss.backward()\n",
    "        optimizer.step()\n",
    "\n",
    "        # выводим статистику о процессе обучения\n",
    "        running_loss += loss.item()\n",
    "        if i % 300 == 0:    # печатаем каждые 300 mini-batches\n",
    "            print('[%d, %5d] loss: %.3f' %\n",
    "                  (epoch + 1, i + 1, running_loss / 300))\n",
    "            running_loss = 0.0\n",
    "\n",
    "print('Training is finished!')"
   ]
  },
  {
   "cell_type": "code",
   "execution_count": null,
   "metadata": {},
   "outputs": [],
   "source": []
  },
  {
   "cell_type": "code",
   "execution_count": 16,
   "metadata": {},
   "outputs": [],
   "source": [
    "net = MyNet(3, 10)\n",
    "\n",
    "optimizer = torch.optim.Adam(net.parameters(), lr=0.0001)\n",
    "criterion = nn.MSELoss()"
   ]
  },
  {
   "cell_type": "code",
   "execution_count": 17,
   "metadata": {},
   "outputs": [
    {
     "name": "stderr",
     "output_type": "stream",
     "text": [
      "\r",
      "  0%|                                                                                           | 0/10 [00:00<?, ?it/s]"
     ]
    },
    {
     "name": "stdout",
     "output_type": "stream",
     "text": [
      "[1,     1] loss: 0.002\n",
      "[1,   301] loss: 0.522\n",
      "[1,   601] loss: 0.397\n",
      "[1,   901] loss: 0.364\n",
      "[1,  1201] loss: 0.338\n",
      "[1,  1501] loss: 0.322\n"
     ]
    },
    {
     "name": "stderr",
     "output_type": "stream",
     "text": [
      "\r",
      " 10%|████████▎                                                                          | 1/10 [00:47<07:03, 47.00s/it]"
     ]
    },
    {
     "name": "stdout",
     "output_type": "stream",
     "text": [
      "[2,     1] loss: 0.001\n",
      "[2,   301] loss: 0.296\n",
      "[2,   601] loss: 0.286\n",
      "[2,   901] loss: 0.269\n",
      "[2,  1201] loss: 0.262\n",
      "[2,  1501] loss: 0.248\n"
     ]
    },
    {
     "name": "stderr",
     "output_type": "stream",
     "text": [
      "\r",
      " 20%|████████████████▌                                                                  | 2/10 [01:33<06:15, 47.00s/it]"
     ]
    },
    {
     "name": "stdout",
     "output_type": "stream",
     "text": [
      "[3,     1] loss: 0.001\n",
      "[3,   301] loss: 0.238\n",
      "[3,   601] loss: 0.231\n",
      "[3,   901] loss: 0.226\n",
      "[3,  1201] loss: 0.223\n",
      "[3,  1501] loss: 0.220\n"
     ]
    },
    {
     "name": "stderr",
     "output_type": "stream",
     "text": [
      "\r",
      " 30%|████████████████████████▉                                                          | 3/10 [02:21<05:29, 47.09s/it]"
     ]
    },
    {
     "name": "stdout",
     "output_type": "stream",
     "text": [
      "[4,     1] loss: 0.001\n",
      "[4,   301] loss: 0.217\n",
      "[4,   601] loss: 0.214\n",
      "[4,   901] loss: 0.213\n",
      "[4,  1201] loss: 0.214\n",
      "[4,  1501] loss: 0.212\n"
     ]
    },
    {
     "name": "stderr",
     "output_type": "stream",
     "text": [
      "\r",
      " 40%|█████████████████████████████████▏                                                 | 4/10 [03:08<04:41, 46.99s/it]"
     ]
    },
    {
     "name": "stdout",
     "output_type": "stream",
     "text": [
      "[5,     1] loss: 0.001\n",
      "[5,   301] loss: 0.211\n",
      "[5,   601] loss: 0.214\n",
      "[5,   901] loss: 0.212\n",
      "[5,  1201] loss: 0.211\n",
      "[5,  1501] loss: 0.210\n"
     ]
    },
    {
     "name": "stderr",
     "output_type": "stream",
     "text": [
      "\r",
      " 50%|█████████████████████████████████████████▌                                         | 5/10 [03:55<03:54, 46.98s/it]"
     ]
    },
    {
     "name": "stdout",
     "output_type": "stream",
     "text": [
      "[6,     1] loss: 0.001\n",
      "[6,   301] loss: 0.211\n",
      "[6,   601] loss: 0.212\n",
      "[6,   901] loss: 0.212\n",
      "[6,  1201] loss: 0.213\n",
      "[6,  1501] loss: 0.210\n"
     ]
    },
    {
     "name": "stderr",
     "output_type": "stream",
     "text": [
      "\r",
      " 60%|█████████████████████████████████████████████████▊                                 | 6/10 [04:42<03:08, 47.01s/it]"
     ]
    },
    {
     "name": "stdout",
     "output_type": "stream",
     "text": [
      "[7,     1] loss: 0.001\n",
      "[7,   301] loss: 0.212\n",
      "[7,   601] loss: 0.211\n",
      "[7,   901] loss: 0.212\n",
      "[7,  1201] loss: 0.212\n",
      "[7,  1501] loss: 0.212\n"
     ]
    },
    {
     "name": "stderr",
     "output_type": "stream",
     "text": [
      "\r",
      " 70%|██████████████████████████████████████████████████████████                         | 7/10 [05:28<02:20, 46.97s/it]"
     ]
    },
    {
     "name": "stdout",
     "output_type": "stream",
     "text": [
      "[8,     1] loss: 0.001\n",
      "[8,   301] loss: 0.213\n",
      "[8,   601] loss: 0.211\n",
      "[8,   901] loss: 0.213\n",
      "[8,  1201] loss: 0.210\n",
      "[8,  1501] loss: 0.211\n"
     ]
    },
    {
     "name": "stderr",
     "output_type": "stream",
     "text": [
      "\r",
      " 80%|██████████████████████████████████████████████████████████████████▍                | 8/10 [06:16<01:34, 47.04s/it]"
     ]
    },
    {
     "name": "stdout",
     "output_type": "stream",
     "text": [
      "[9,     1] loss: 0.001\n",
      "[9,   301] loss: 0.212\n",
      "[9,   601] loss: 0.212\n",
      "[9,   901] loss: 0.211\n",
      "[9,  1201] loss: 0.212\n",
      "[9,  1501] loss: 0.212\n"
     ]
    },
    {
     "name": "stderr",
     "output_type": "stream",
     "text": [
      "\r",
      " 90%|██████████████████████████████████████████████████████████████████████████▋        | 9/10 [07:03<00:47, 47.10s/it]"
     ]
    },
    {
     "name": "stdout",
     "output_type": "stream",
     "text": [
      "[10,     1] loss: 0.001\n",
      "[10,   301] loss: 0.210\n",
      "[10,   601] loss: 0.212\n",
      "[10,   901] loss: 0.212\n",
      "[10,  1201] loss: 0.211\n",
      "[10,  1501] loss: 0.212\n"
     ]
    },
    {
     "name": "stderr",
     "output_type": "stream",
     "text": [
      "100%|██████████████████████████████████████████████████████████████████████████████████| 10/10 [07:50<00:00, 47.00s/it]"
     ]
    },
    {
     "name": "stdout",
     "output_type": "stream",
     "text": [
      "Training is finished!\n"
     ]
    },
    {
     "name": "stderr",
     "output_type": "stream",
     "text": [
      "\n"
     ]
    }
   ],
   "source": [
    "for epoch in tqdm(range(10)):  \n",
    "    running_loss = 0.0\n",
    "    for i, data in enumerate(train_loader, 0):\n",
    "        inputs, labels = data[0], data[1]\n",
    "\n",
    "        # обнуляем градиент\n",
    "        optimizer.zero_grad()\n",
    "\n",
    "        outputs = net(inputs)\n",
    "        loss = torch.sqrt(criterion(outputs, labels))\n",
    "        loss.backward()\n",
    "        optimizer.step()\n",
    "\n",
    "        # выводим статистику о процессе обучения\n",
    "        running_loss += loss.item()\n",
    "        if i % 300 == 0:    # печатаем каждые 300 mini-batches\n",
    "            print('[%d, %5d] loss: %.3f' %\n",
    "                  (epoch + 1, i + 1, running_loss / 300))\n",
    "            running_loss = 0.0\n",
    "\n",
    "print('Training is finished!')"
   ]
  },
  {
   "cell_type": "code",
   "execution_count": null,
   "metadata": {},
   "outputs": [],
   "source": []
  },
  {
   "cell_type": "code",
   "execution_count": 19,
   "metadata": {},
   "outputs": [],
   "source": [
    "net = MyNet(3, 10)\n",
    "\n",
    "optimizer = torch.optim.RMSprop(net.parameters(), lr=0.0001)\n",
    "criterion = nn.MSELoss()"
   ]
  },
  {
   "cell_type": "code",
   "execution_count": 20,
   "metadata": {},
   "outputs": [
    {
     "name": "stderr",
     "output_type": "stream",
     "text": [
      "\r",
      "  0%|                                                                                           | 0/10 [00:00<?, ?it/s]"
     ]
    },
    {
     "name": "stdout",
     "output_type": "stream",
     "text": [
      "[1,     1] loss: 0.004\n",
      "[1,   301] loss: 0.604\n",
      "[1,   601] loss: 0.402\n",
      "[1,   901] loss: 0.343\n",
      "[1,  1201] loss: 0.315\n",
      "[1,  1501] loss: 0.288\n"
     ]
    },
    {
     "name": "stderr",
     "output_type": "stream",
     "text": [
      "\r",
      " 10%|████████▎                                                                          | 1/10 [00:42<06:21, 42.42s/it]"
     ]
    },
    {
     "name": "stdout",
     "output_type": "stream",
     "text": [
      "[2,     1] loss: 0.001\n",
      "[2,   301] loss: 0.263\n",
      "[2,   601] loss: 0.249\n",
      "[2,   901] loss: 0.239\n",
      "[2,  1201] loss: 0.228\n",
      "[2,  1501] loss: 0.221\n"
     ]
    },
    {
     "name": "stderr",
     "output_type": "stream",
     "text": [
      "\r",
      " 20%|████████████████▌                                                                  | 2/10 [01:25<05:41, 42.72s/it]"
     ]
    },
    {
     "name": "stdout",
     "output_type": "stream",
     "text": [
      "[3,     1] loss: 0.001\n",
      "[3,   301] loss: 0.217\n",
      "[3,   601] loss: 0.215\n",
      "[3,   901] loss: 0.213\n",
      "[3,  1201] loss: 0.212\n",
      "[3,  1501] loss: 0.212\n"
     ]
    },
    {
     "name": "stderr",
     "output_type": "stream",
     "text": [
      "\r",
      " 30%|████████████████████████▉                                                          | 3/10 [02:08<04:59, 42.76s/it]"
     ]
    },
    {
     "name": "stdout",
     "output_type": "stream",
     "text": [
      "[4,     1] loss: 0.001\n",
      "[4,   301] loss: 0.213\n",
      "[4,   601] loss: 0.211\n",
      "[4,   901] loss: 0.212\n",
      "[4,  1201] loss: 0.211\n",
      "[4,  1501] loss: 0.210\n"
     ]
    },
    {
     "name": "stderr",
     "output_type": "stream",
     "text": [
      "\r",
      " 40%|█████████████████████████████████▏                                                 | 4/10 [02:50<04:15, 42.62s/it]"
     ]
    },
    {
     "name": "stdout",
     "output_type": "stream",
     "text": [
      "[5,     1] loss: 0.001\n",
      "[5,   301] loss: 0.211\n",
      "[5,   601] loss: 0.211\n",
      "[5,   901] loss: 0.213\n",
      "[5,  1201] loss: 0.212\n",
      "[5,  1501] loss: 0.213\n"
     ]
    },
    {
     "name": "stderr",
     "output_type": "stream",
     "text": [
      "\r",
      " 50%|█████████████████████████████████████████▌                                         | 5/10 [03:32<03:32, 42.44s/it]"
     ]
    },
    {
     "name": "stdout",
     "output_type": "stream",
     "text": [
      "[6,     1] loss: 0.001\n",
      "[6,   301] loss: 0.211\n",
      "[6,   601] loss: 0.212\n",
      "[6,   901] loss: 0.213\n",
      "[6,  1201] loss: 0.212\n",
      "[6,  1501] loss: 0.211\n"
     ]
    },
    {
     "name": "stderr",
     "output_type": "stream",
     "text": [
      "\r",
      " 60%|█████████████████████████████████████████████████▊                                 | 6/10 [04:14<02:49, 42.34s/it]"
     ]
    },
    {
     "name": "stdout",
     "output_type": "stream",
     "text": [
      "[7,     1] loss: 0.001\n",
      "[7,   301] loss: 0.212\n",
      "[7,   601] loss: 0.213\n",
      "[7,   901] loss: 0.212\n",
      "[7,  1201] loss: 0.212\n",
      "[7,  1501] loss: 0.210\n"
     ]
    },
    {
     "name": "stderr",
     "output_type": "stream",
     "text": [
      "\r",
      " 70%|██████████████████████████████████████████████████████████                         | 7/10 [04:57<02:07, 42.34s/it]"
     ]
    },
    {
     "name": "stdout",
     "output_type": "stream",
     "text": [
      "[8,     1] loss: 0.001\n",
      "[8,   301] loss: 0.212\n",
      "[8,   601] loss: 0.212\n",
      "[8,   901] loss: 0.211\n",
      "[8,  1201] loss: 0.212\n",
      "[8,  1501] loss: 0.211\n"
     ]
    },
    {
     "name": "stderr",
     "output_type": "stream",
     "text": [
      "\r",
      " 80%|██████████████████████████████████████████████████████████████████▍                | 8/10 [05:39<01:24, 42.29s/it]"
     ]
    },
    {
     "name": "stdout",
     "output_type": "stream",
     "text": [
      "[9,     1] loss: 0.001\n",
      "[9,   301] loss: 0.212\n",
      "[9,   601] loss: 0.210\n",
      "[9,   901] loss: 0.212\n",
      "[9,  1201] loss: 0.211\n",
      "[9,  1501] loss: 0.213\n"
     ]
    },
    {
     "name": "stderr",
     "output_type": "stream",
     "text": [
      "\r",
      " 90%|██████████████████████████████████████████████████████████████████████████▋        | 9/10 [06:21<00:42, 42.26s/it]"
     ]
    },
    {
     "name": "stdout",
     "output_type": "stream",
     "text": [
      "[10,     1] loss: 0.001\n",
      "[10,   301] loss: 0.210\n",
      "[10,   601] loss: 0.213\n",
      "[10,   901] loss: 0.213\n",
      "[10,  1201] loss: 0.211\n",
      "[10,  1501] loss: 0.211\n"
     ]
    },
    {
     "name": "stderr",
     "output_type": "stream",
     "text": [
      "100%|██████████████████████████████████████████████████████████████████████████████████| 10/10 [07:03<00:00, 42.40s/it]"
     ]
    },
    {
     "name": "stdout",
     "output_type": "stream",
     "text": [
      "Training is finished!\n"
     ]
    },
    {
     "name": "stderr",
     "output_type": "stream",
     "text": [
      "\n"
     ]
    }
   ],
   "source": [
    "for epoch in tqdm(range(10)):  \n",
    "    running_loss = 0.0\n",
    "    for i, data in enumerate(train_loader, 0):\n",
    "        inputs, labels = data[0], data[1]\n",
    "\n",
    "        # обнуляем градиент\n",
    "        optimizer.zero_grad()\n",
    "\n",
    "        outputs = net(inputs)\n",
    "        loss = torch.sqrt(criterion(outputs, labels))\n",
    "        loss.backward()\n",
    "        optimizer.step()\n",
    "\n",
    "        # выводим статистику о процессе обучения\n",
    "        running_loss += loss.item()\n",
    "        if i % 300 == 0:    # печатаем каждые 300 mini-batches\n",
    "            print('[%d, %5d] loss: %.3f' %\n",
    "                  (epoch + 1, i + 1, running_loss / 300))\n",
    "            running_loss = 0.0\n",
    "\n",
    "print('Training is finished!')"
   ]
  },
  {
   "cell_type": "code",
   "execution_count": null,
   "metadata": {},
   "outputs": [],
   "source": []
  }
 ],
 "metadata": {
  "kernelspec": {
   "display_name": "Python 3 (ipykernel)",
   "language": "python",
   "name": "python3"
  },
  "language_info": {
   "codemirror_mode": {
    "name": "ipython",
    "version": 3
   },
   "file_extension": ".py",
   "mimetype": "text/x-python",
   "name": "python",
   "nbconvert_exporter": "python",
   "pygments_lexer": "ipython3",
   "version": "3.9.12"
  }
 },
 "nbformat": 4,
 "nbformat_minor": 2
}
