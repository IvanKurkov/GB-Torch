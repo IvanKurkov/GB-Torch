{
 "cells": [
  {
   "cell_type": "code",
   "execution_count": 7,
   "id": "51a21e92",
   "metadata": {},
   "outputs": [],
   "source": [
    "from transformers import BertTokenizer\n",
    "import pandas as pd\n",
    "from sklearn.model_selection import train_test_split"
   ]
  },
  {
   "cell_type": "code",
   "execution_count": 16,
   "id": "c081e083",
   "metadata": {},
   "outputs": [],
   "source": [
    "df = pd.read_excel('review.xls')\n",
    "df_X = df['Content'].astype('str')\n",
    "df_y = df['Rating']"
   ]
  },
  {
   "cell_type": "code",
   "execution_count": 17,
   "id": "c9797b40",
   "metadata": {},
   "outputs": [],
   "source": [
    "df_y = df_y - 1"
   ]
  },
  {
   "cell_type": "code",
   "execution_count": 18,
   "id": "a49b61a4",
   "metadata": {},
   "outputs": [],
   "source": [
    "X_train, X_test, y_train, y_test = train_test_split(df_X, df_y, test_size=0.33, random_state=42)"
   ]
  },
  {
   "cell_type": "code",
   "execution_count": 19,
   "id": "0a543a4c",
   "metadata": {},
   "outputs": [],
   "source": [
    "from torch.utils.data import DataLoader, Dataset\n",
    "\n",
    "class DataWrapper(Dataset):\n",
    "    def __init__(self, data, target):\n",
    "        self.tokenizer = BertTokenizer.from_pretrained('bert-base-multilingual-cased')\n",
    "        self.target = target\n",
    "        self.data = [self.tokenizer(text, padding='max_length', max_length=10, truncation=True, return_tensors='pt') for text in data]\n",
    "   \n",
    "    def __getitem__(self, index):\n",
    "        x = self.data[index]\n",
    "        y = self.target[index]\n",
    "                \n",
    "        return x, y\n",
    "    \n",
    "    def __len__(self):\n",
    "        return len(self.data)"
   ]
  },
  {
   "cell_type": "code",
   "execution_count": 20,
   "id": "676bf86f",
   "metadata": {},
   "outputs": [],
   "source": [
    "train_dataset = DataWrapper(X_train, y_train)\n",
    "train_loader = DataLoader(train_dataset, batch_size=64, shuffle=True)\n",
    "\n",
    "val_dataset = DataWrapper(X_test, y_test)\n",
    "val_loader = DataLoader(val_dataset, batch_size=64, shuffle=True)"
   ]
  },
  {
   "cell_type": "code",
   "execution_count": null,
   "id": "19734ef7",
   "metadata": {},
   "outputs": [],
   "source": []
  }
 ],
 "metadata": {
  "kernelspec": {
   "display_name": "Python 3",
   "language": "python",
   "name": "python3"
  },
  "language_info": {
   "codemirror_mode": {
    "name": "ipython",
    "version": 3
   },
   "file_extension": ".py",
   "mimetype": "text/x-python",
   "name": "python",
   "nbconvert_exporter": "python",
   "pygments_lexer": "ipython3",
   "version": "3.8.8"
  }
 },
 "nbformat": 4,
 "nbformat_minor": 5
}
